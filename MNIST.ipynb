{
  "cells": [
    {
      "cell_type": "markdown",
      "metadata": {
        "id": "view-in-github",
        "colab_type": "text"
      },
      "source": [
        "<a href=\"https://colab.research.google.com/github/bella0826/Network-programming-hw2-FTP-program-with-data-compression/blob/main/MNIST.ipynb\" target=\"_parent\"><img src=\"https://colab.research.google.com/assets/colab-badge.svg\" alt=\"Open In Colab\"/></a>"
      ]
    },
    {
      "cell_type": "code",
      "execution_count": 69,
      "metadata": {
        "id": "7Kfjj3XxC9Ie"
      },
      "outputs": [],
      "source": [
        "import numpy as np\n",
        "import pandas as pd\n",
        "from keras.models import Sequential\n",
        "from keras.layers  import Dense, Dropout, Activation, Flatten\n",
        "from keras.layers import BatchNormalization\n",
        "from keras.layers import Conv2D, MaxPooling2D\n",
        "from keras.layers import Conv3D, MaxPooling3D\n",
        "#from tensorflow.keras.optimizers import SGD, RMSprop\n",
        "from keras import optimizers\n",
        "from keras.callbacks import ModelCheckpoint\n",
        "from keras import regularizers\n",
        "from sklearn.model_selection import train_test_split\n",
        "from tensorflow.python.keras.models import Model\n",
        "import tensorflow as tf\n",
        "import keras\n",
        "from keras.utils import np_utils\n",
        "from keras.datasets import mnist\n",
        "import matplotlib.pyplot as plt\n"
      ]
    },
    {
      "cell_type": "code",
      "execution_count": 70,
      "metadata": {
        "id": "FkjGO37HE2RJ"
      },
      "outputs": [],
      "source": [
        "(x_train_image,y_train_label),(x_test_image,y_test_label) = mnist.load_data() #train_data = 60000, test_data = 10000\n",
        "\n",
        "#print(x_train_image.shape[0])"
      ]
    },
    {
      "cell_type": "code",
      "execution_count": 71,
      "metadata": {
        "id": "x4TRiFCJ_zsc"
      },
      "outputs": [],
      "source": [
        "x_train_norm = x_train_image.reshape(60000,1,28,28).astype('float32')/255  #before entering model, need to flatten the data(from 60000*28*28 to 60000*784)\n",
        "x_test_norm = x_test_image.reshape(10000,1,28,28).astype('float32')/255\n",
        "\n",
        "#normalization\n",
        "'''x_train_norm = x_train/255.0\n",
        "x_test_norm = x_test/255.0\n",
        "'''\n",
        "#one-hot-encoding\n",
        "y_train = np_utils.to_categorical(y_train_label)\n",
        "y_test = np_utils.to_categorical(y_test_label)"
      ]
    },
    {
      "cell_type": "code",
      "execution_count": 72,
      "metadata": {
        "id": "cqfWA6dM_M-Z"
      },
      "outputs": [],
      "source": [
        "def build_model():\n",
        "  model = Sequential()\n",
        "  model.add(Conv2D(32,5,input_shape=(1,28,28),activation='linear',padding='same'))\n",
        "  model.add(MaxPooling2D(2,data_format='channels_first'))\n",
        "  model.add(BatchNormalization())\n",
        "\n",
        "  model.add(Conv2D(64,5,activation='linear',padding='same'))\n",
        "  model.add(MaxPooling2D(2,data_format='channels_first'))\n",
        "  \n",
        "  model.add(Flatten())\n",
        "  model.add(Dropout(0.5))\n",
        "  model.add(Dense(258,activation='relu'))\n",
        "  model.add(Dense(10,activation='softmax'))\n",
        "  \n",
        "  model.compile(loss='categorical_crossentropy', optimizer='adam', metrics = ['accuracy'])\n",
        "  \n",
        "  print(model.summary())\n",
        "  \n",
        "  return model"
      ]
    },
    {
      "cell_type": "code",
      "execution_count": 73,
      "metadata": {
        "id": "L090ER1_DLwf"
      },
      "outputs": [],
      "source": [
        "def show_train_history(train_history,train,validation):\n",
        "\n",
        "  if train == 'accuracy':\n",
        "    plt.plot(train_history.history[train])\n",
        "    plt.plot(train_history.history[validation])\n",
        "    plt.title('Train history(acc)')\n",
        "    plt.ylabel('train')\n",
        "    plt.xlabel('epoch')\n",
        "  else:\n",
        "    plt.plot(train_history.history[train])\n",
        "    plt.plot(train_history.history[validation])\n",
        "    plt.title('Train history(loss)')\n",
        "    plt.ylabel('train')\n",
        "    plt.xlabel('epoch')\n",
        "  # 設置圖例在左上角\n",
        "  plt.legend(['train','validation'],loc='upper left')\n",
        "  plt.show()"
      ]
    },
    {
      "cell_type": "code",
      "source": [
        "def plot_images_labels(images,labels,prediction,idx,num=1):\n",
        "    fig=plt.gcf()\n",
        "    fig.set_size_inches(12,14)\n",
        "    if num>25:\n",
        "        num=15\n",
        "    for i in range(0,num):\n",
        "        ax=plt.subplot(5,5,1+i)\n",
        "        ax.imshow(np.reshape(images[idx],(28,28)), cmap='binary')\n",
        "        title=\"label=\" +str(labels[idx])\n",
        "        if len(prediction)>0:\n",
        "            title+=\",predict=\"+str(prediction[idx])\n",
        "        ax.set_title(title,fontsize=10)\n",
        "        ax.set_xticks([])\n",
        "        ax.set_yticks([])\n",
        "        idx=idx+1\n",
        "    plt.show()"
      ],
      "metadata": {
        "id": "pPIO6R_fH0GP"
      },
      "execution_count": 74,
      "outputs": []
    },
    {
      "cell_type": "code",
      "execution_count": 75,
      "metadata": {
        "colab": {
          "base_uri": "https://localhost:8080/"
        },
        "id": "q2SbpcXs9ZYQ",
        "outputId": "1828862e-8439-4988-866b-d030d57bba88"
      },
      "outputs": [
        {
          "output_type": "stream",
          "name": "stdout",
          "text": [
            "Model: \"sequential_6\"\n",
            "_________________________________________________________________\n",
            " Layer (type)                Output Shape              Param #   \n",
            "=================================================================\n",
            " conv2d_12 (Conv2D)          (None, 1, 28, 32)         22432     \n",
            "                                                                 \n",
            " max_pooling2d_12 (MaxPoolin  (None, 1, 14, 16)        0         \n",
            " g2D)                                                            \n",
            "                                                                 \n",
            " batch_normalization_6 (Batc  (None, 1, 14, 16)        64        \n",
            " hNormalization)                                                 \n",
            "                                                                 \n",
            " conv2d_13 (Conv2D)          (None, 1, 14, 64)         25664     \n",
            "                                                                 \n",
            " max_pooling2d_13 (MaxPoolin  (None, 1, 7, 32)         0         \n",
            " g2D)                                                            \n",
            "                                                                 \n",
            " flatten_6 (Flatten)         (None, 224)               0         \n",
            "                                                                 \n",
            " dropout_6 (Dropout)         (None, 224)               0         \n",
            "                                                                 \n",
            " dense_12 (Dense)            (None, 258)               58050     \n",
            "                                                                 \n",
            " dense_13 (Dense)            (None, 10)                2590      \n",
            "                                                                 \n",
            "=================================================================\n",
            "Total params: 108,800\n",
            "Trainable params: 108,768\n",
            "Non-trainable params: 32\n",
            "_________________________________________________________________\n",
            "None\n",
            "Epoch 1/20\n",
            "240/240 - 2s - loss: 0.4296 - accuracy: 0.8662 - val_loss: 0.2428 - val_accuracy: 0.9633 - 2s/epoch - 6ms/step\n",
            "Epoch 2/20\n",
            "240/240 - 1s - loss: 0.1372 - accuracy: 0.9578 - val_loss: 0.0825 - val_accuracy: 0.9753 - 861ms/epoch - 4ms/step\n",
            "Epoch 3/20\n",
            "240/240 - 1s - loss: 0.0985 - accuracy: 0.9700 - val_loss: 0.0735 - val_accuracy: 0.9782 - 863ms/epoch - 4ms/step\n",
            "Epoch 4/20\n",
            "240/240 - 1s - loss: 0.0817 - accuracy: 0.9743 - val_loss: 0.0689 - val_accuracy: 0.9797 - 861ms/epoch - 4ms/step\n",
            "Epoch 5/20\n",
            "240/240 - 1s - loss: 0.0710 - accuracy: 0.9778 - val_loss: 0.0573 - val_accuracy: 0.9840 - 850ms/epoch - 4ms/step\n",
            "Epoch 6/20\n",
            "240/240 - 1s - loss: 0.0635 - accuracy: 0.9803 - val_loss: 0.0564 - val_accuracy: 0.9833 - 872ms/epoch - 4ms/step\n",
            "Epoch 7/20\n",
            "240/240 - 1s - loss: 0.0589 - accuracy: 0.9809 - val_loss: 0.0561 - val_accuracy: 0.9835 - 877ms/epoch - 4ms/step\n",
            "Epoch 8/20\n",
            "240/240 - 1s - loss: 0.0533 - accuracy: 0.9836 - val_loss: 0.0484 - val_accuracy: 0.9858 - 879ms/epoch - 4ms/step\n",
            "Epoch 9/20\n",
            "240/240 - 1s - loss: 0.0491 - accuracy: 0.9836 - val_loss: 0.0561 - val_accuracy: 0.9836 - 1s/epoch - 4ms/step\n",
            "Epoch 10/20\n",
            "240/240 - 1s - loss: 0.0473 - accuracy: 0.9849 - val_loss: 0.0425 - val_accuracy: 0.9872 - 877ms/epoch - 4ms/step\n",
            "Epoch 11/20\n",
            "240/240 - 1s - loss: 0.0444 - accuracy: 0.9854 - val_loss: 0.0418 - val_accuracy: 0.9872 - 876ms/epoch - 4ms/step\n",
            "Epoch 12/20\n",
            "240/240 - 1s - loss: 0.0411 - accuracy: 0.9869 - val_loss: 0.0447 - val_accuracy: 0.9873 - 886ms/epoch - 4ms/step\n",
            "Epoch 13/20\n",
            "240/240 - 1s - loss: 0.0404 - accuracy: 0.9873 - val_loss: 0.0461 - val_accuracy: 0.9868 - 877ms/epoch - 4ms/step\n",
            "Epoch 14/20\n",
            "240/240 - 1s - loss: 0.0370 - accuracy: 0.9879 - val_loss: 0.0412 - val_accuracy: 0.9878 - 889ms/epoch - 4ms/step\n",
            "Epoch 15/20\n",
            "240/240 - 1s - loss: 0.0348 - accuracy: 0.9891 - val_loss: 0.0433 - val_accuracy: 0.9877 - 885ms/epoch - 4ms/step\n",
            "Epoch 16/20\n",
            "240/240 - 1s - loss: 0.0341 - accuracy: 0.9886 - val_loss: 0.0457 - val_accuracy: 0.9883 - 881ms/epoch - 4ms/step\n",
            "Epoch 17/20\n",
            "240/240 - 1s - loss: 0.0333 - accuracy: 0.9893 - val_loss: 0.0436 - val_accuracy: 0.9887 - 881ms/epoch - 4ms/step\n",
            "Epoch 18/20\n",
            "240/240 - 1s - loss: 0.0306 - accuracy: 0.9900 - val_loss: 0.0477 - val_accuracy: 0.9877 - 887ms/epoch - 4ms/step\n",
            "Epoch 19/20\n",
            "240/240 - 1s - loss: 0.0288 - accuracy: 0.9905 - val_loss: 0.0434 - val_accuracy: 0.9887 - 857ms/epoch - 4ms/step\n",
            "Epoch 20/20\n",
            "240/240 - 1s - loss: 0.0299 - accuracy: 0.9899 - val_loss: 0.0395 - val_accuracy: 0.9893 - 857ms/epoch - 4ms/step\n"
          ]
        }
      ],
      "source": [
        "#training\n",
        "model = build_model()\n",
        "\n",
        "train_history = model.fit(x=x_train_norm,y=y_train,validation_split=0.2,batch_size=200,epochs=20,verbose=2)"
      ]
    },
    {
      "cell_type": "code",
      "source": [
        "show_train_history(train_history,'accuracy','val_accuracy')\n",
        "show_train_history(train_history,'loss','val_loss')"
      ],
      "metadata": {
        "colab": {
          "base_uri": "https://localhost:8080/",
          "height": 573
        },
        "id": "aYOU5xRtRDih",
        "outputId": "a2a22f18-3b0f-4404-fe39-9290b6590a86"
      },
      "execution_count": 76,
      "outputs": [
        {
          "output_type": "display_data",
          "data": {
            "text/plain": [
              "<Figure size 432x288 with 1 Axes>"
            ],
            "image/png": "[encoded data removed]"
          },
          "metadata": {
            "needs_background": "light"
          }
        },
        {
          "output_type": "display_data",
          "data": {
            "text/plain": [
              "<Figure size 432x288 with 1 Axes>"
            ],
            "image/png": "[encoded data removed]"
          },
          "metadata": {
            "needs_background": "light"
          }
        }
      ]
    },
    {
      "cell_type": "code",
      "execution_count": 77,
      "metadata": {
        "colab": {
          "base_uri": "https://localhost:8080/"
        },
        "id": "9hieCpTXEDy7",
        "outputId": "638c06be-39c0-40bb-ccef-62c0520a0fad"
      },
      "outputs": [
        {
          "output_type": "stream",
          "name": "stdout",
          "text": [
            "313/313 [==============================] - 1s 3ms/step - loss: 0.0302 - accuracy: 0.9902\n",
            "\n",
            "accuracy 0.9901999831199646\n"
          ]
        }
      ],
      "source": [
        "#testing\n",
        "scores=model.evaluate(x_test_norm,y_test)\n",
        "print()\n",
        "print('accuracy',scores[1])"
      ]
    },
    {
      "cell_type": "code",
      "source": [
        "#print out the testing image\n",
        "predictions = (model.predict(x_test_norm) > 0.5).astype('int32')\n",
        "plot_images_labels(x_test_norm,y_test,predictions,idx=300)"
      ],
      "metadata": {
        "colab": {
          "base_uri": "https://localhost:8080/",
          "height": 164
        },
        "id": "0H7Bevn1H_DX",
        "outputId": "9f4a5ce9-665a-4a13-8852-ae9318c15ea2"
      },
      "execution_count": 78,
      "outputs": [
        {
          "output_type": "display_data",
          "data": {
            "text/plain": [
              "<Figure size 864x1008 with 1 Axes>"
            ],
            "image/png": "[encoded data removed]"
          },
          "metadata": {}
        }
      ]
    }
  ],
  "metadata": {
    "accelerator": "GPU",
    "colab": {
      "collapsed_sections": [],
      "provenance": [],
      "authorship_tag": "ABX9TyP27hfjn61KtodQlHsUoptI",
      "include_colab_link": true
    },
    "gpuClass": "standard",
    "kernelspec": {
      "display_name": "Python 3",
      "name": "python3"
    },
    "language_info": {
      "name": "python"
    }
  },
  "nbformat": 4,
  "nbformat_minor": 0
}